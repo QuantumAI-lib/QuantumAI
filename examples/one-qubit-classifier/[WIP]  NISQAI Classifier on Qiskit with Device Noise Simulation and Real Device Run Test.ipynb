{
 "cells": [
  {
   "cell_type": "markdown",
   "metadata": {},
   "source": [
    "# NISQAI One-Qubit Quantum Neural Network Adapted for Qiskit\n",
    "\n",
    "\n",
    "***\n",
    "### Contributors\n",
    "#### Add here the contributors:\n",
    "Pierre Decoodt"
   ]
  },
  {
   "cell_type": "markdown",
   "metadata": {},
   "source": [
    "## Introduction\n",
    "\n",
    "This is a proof of concept for the assessment on Qiskit of a NISQAI classifier$^{[1]}$.\n",
    "A one-qubit neural network is tested on Aer based noise free simulation (NFS) and device noise simulation (DNS), and also on real superconducting quantum calculating device (SQC).\n",
    "\n",
    "The protocol follows the steps described in a previous Qiskit tutorial $^{[2]}$ using quantum state tomography $^{[3]}$ for assessing fidelity.\n",
    "\n",
    "The last part consist of testing training and prediction by NFS and DNS.\n",
    "\n",
    "NB: We use the term SQC instead of NISQ because the original Preskill paper $^{[4]}$ specifies as \"NISQ\" quantum computers with 50-100 qubits."
   ]
  },
  {
   "cell_type": "code",
   "execution_count": 1,
   "metadata": {},
   "outputs": [
    {
     "name": "stderr",
     "output_type": "stream",
     "text": [
      "C:\\Users\\decpi\\Anaconda3\\envs\\q7env\\lib\\site-packages\\marshmallow\\schema.py:364: ChangedInMarshmallow3Warning: strict=False is not recommended. In marshmallow 3.0, schemas will always be strict. See https://marshmallow.readthedocs.io/en/latest/upgrading.html#schemas-are-always-strict\n",
      "  ChangedInMarshmallow3Warning\n"
     ]
    }
   ],
   "source": [
    "#Import packages\n",
    "# NB running this cell induces a ChangedInMarshmallow3Warning for the moment. This warning can be safely ignored.\n",
    "import numpy as np\n",
    "import matplotlib.pyplot as plt\n",
    "%matplotlib inline\n",
    "import time\n",
    "from scipy.optimize import minimize\n",
    "\n",
    "# import from qiskit\n",
    "from qiskit import QuantumCircuit, QuantumRegister, ClassicalRegister, execute, compile\n",
    "from qiskit.converters import qobj_to_circuits\n",
    "from qiskit import Aer, IBMQ\n",
    "from qiskit.providers.aer import noise\n",
    "\n",
    "# import tomography library\n",
    "import qiskit.tools.qcvv.tomography as tomo\n",
    "\n",
    "# useful additional packages \n",
    "from qiskit.tools.visualization import plot_state, plot_histogram        \n",
    "from qiskit.tools.qi.qi import state_fidelity, outer\n",
    "from qiskit.tools.qi.qi import outer\n",
    "from qiskit.quantum_info import state_fidelity\n",
    "from qiskit.tools.monitor import job_monitor, backend_overview\n",
    "from qiskit.providers.ibmq import least_busy\n",
    "from qiskit.quantum_info.analyzation.average import average_data"
   ]
  },
  {
   "cell_type": "code",
   "execution_count": 2,
   "metadata": {},
   "outputs": [
    {
     "data": {
      "text/plain": [
       "[<QasmSimulator('qasm_simulator') from AerProvider()>,\n",
       " <StatevectorSimulator('statevector_simulator') from AerProvider()>,\n",
       " <UnitarySimulator('unitary_simulator') from AerProvider()>]"
      ]
     },
     "execution_count": 2,
     "metadata": {},
     "output_type": "execute_result"
    }
   ],
   "source": [
    "Aer.backends() # No need for credentials for running the next cells until next warning"
   ]
  },
  {
   "cell_type": "markdown",
   "metadata": {},
   "source": [
    "## 1. Data  Encoding"
   ]
  },
  {
   "cell_type": "markdown",
   "metadata": {},
   "source": [
    "### Generating Data"
   ]
  },
  {
   "cell_type": "code",
   "execution_count": 3,
   "metadata": {},
   "outputs": [],
   "source": [
    "# set random seed for reproducible results\n",
    "SEED = 1059123109\n",
    "np.random.seed(seed=SEED)"
   ]
  },
  {
   "cell_type": "code",
   "execution_count": 4,
   "metadata": {},
   "outputs": [
    {
     "data": {
      "image/png": "[encoded data removed]",
      "text/plain": [
       "<Figure size 432x288 with 1 Axes>"
      ]
     },
     "metadata": {
      "needs_background": "light"
     },
     "output_type": "display_data"
    }
   ],
   "source": [
    "# generate data points distributed uniformly at random in [0, 1) x [0, 1)\n",
    "npoints = 100\n",
    "data = np.random.rand(npoints, 2)\n",
    "\n",
    "def predicate(point):\n",
    "    \"\"\"Returns true if the point satisfies the predicate, else false.\"\"\"\n",
    "    return True if point[0] <= 0.5 else False\n",
    "\n",
    "# separate the data with a linear boundary y = x\n",
    "labels = np.array([1 if predicate(p) else 0 for p in data])\n",
    "\n",
    "# plot the line y = x\n",
    "xs = np.linspace(0, 1, 100)\n",
    "ys = 0.5 * np.ones_like(xs)\n",
    "plt.plot(ys, xs, '--k')\n",
    "\n",
    "# plot the data with the color key BLUE = 0 = LEFT, GREEN = 1 = RIGHT\n",
    "for i in range(npoints):\n",
    "    if labels[i] == 0:\n",
    "        ckey = 'g'\n",
    "    else:\n",
    "        ckey = 'b'\n",
    "    plt.scatter(data[i, 0], data[i, 1], color=ckey)\n",
    "    \n",
    "# title and axis lables\n",
    "plt.title(\"Random Data Points in Unit Square\", fontweight=\"bold\", fontsize=16)\n",
    "\n",
    "# put on a grid and show the plot\n",
    "plt.grid()\n",
    "plt.show()"
   ]
  },
  {
   "cell_type": "markdown",
   "metadata": {},
   "source": [
    "### Qubit Encoding"
   ]
  },
  {
   "cell_type": "code",
   "execution_count": 5,
   "metadata": {},
   "outputs": [],
   "source": [
    "# encode the classical data via a simple linear \"qubit encoding\"\n",
    "qdata = np.zeros_like(data)\n",
    "for (index, point) in enumerate(data):\n",
    "    qdata[index][0] = np.pi * point[0]\n",
    "    qdata[index][1] = 2 * np.pi * point[1]"
   ]
  },
  {
   "cell_type": "markdown",
   "metadata": {},
   "source": [
    "## 2. State Preparation"
   ]
  },
  {
   "cell_type": "markdown",
   "metadata": {},
   "source": [
    "As explained is the NISQAI one-qubit classifier description$^{[1]}$, the one-qubit encoding is achieved by realizing the following initial state: \n",
    " \n",
    "$$|\\psi\\rangle = \\cos(\\frac {\\theta}{2}) |0\\rangle + e^{i \\phi} \\sin(\\frac {\\theta}{2})|1\\rangle $$\n",
    "\n",
    "\n",
    "The unitary taking the $|0\\rangle$ to the above state is: \n",
    "\n",
    "$$\n",
    "S(\\theta, \\phi) = \\begin{pmatrix}\n",
    "\\cos(\\frac {\\theta}{2}) & e^{-i \\phi}\\sin(\\frac {\\theta}{2}) \\\\\n",
    "e^{i \\phi} \\sin(\\frac {\\theta}{2}) & - \\cos(\\frac {\\theta}{2})\n",
    "\\end{pmatrix}\n",
    "$$\n",
    "\n",
    "\n",
    "Such an operation is not currently directly available in Qiskit to our knowledge. We therefore use arbitrary initialization in order to encode the qubit $^{[5]}$.\n",
    "\n",
    "A check of the results of this arbitrary initialization follows:"
   ]
  },
  {
   "cell_type": "code",
   "execution_count": 6,
   "metadata": {},
   "outputs": [
    {
     "name": "stdout",
     "output_type": "stream",
     "text": [
      "3.122 5.969     0 vs 2 -- 8191 vs 8190\n",
      "0.348 0.911     7946 vs 7946 -- 245 vs 246\n",
      "1.652 4.618     3765 vs 3849 -- 4426 vs 4343\n",
      "2.919 0.365     101 vs 94 -- 8090 vs 8098\n",
      "2.582 1.018     623 vs 592 -- 7568 vs 7600\n",
      "0.002 5.703     8191 vs 8192 -- 0 vs 0\n",
      "2.986 5.712     49 vs 34 -- 8142 vs 8158\n",
      "3.064 1.62     12 vs 15 -- 8179 vs 8177\n",
      "1.516 0.87     4320 vs 4356 -- 3871 vs 3836\n",
      "3.131 0.308     0 vs 0 -- 8191 vs 8192\n",
      "2.118 0.197     1965 vs 1949 -- 6226 vs 6243\n"
     ]
    }
   ],
   "source": [
    "# Checking arbitrary initialization\n",
    "n = 1\n",
    "for i in range(5,56,5) : # modify here if wishe\n",
    "    # create a n-qubit quantum register\n",
    "    qrt = QuantumRegister(n)\n",
    "    crt = ClassicalRegister(n)\n",
    "    check_sta = QuantumCircuit(qrt,crt , name='check_sta')\n",
    "\n",
    "    # pick an encoded data point\n",
    "    theta, phi = qdata[i]\n",
    "\n",
    "    # desired vector\n",
    "    desired_vector = [np.cos(theta / 2), np.exp(1j * phi) * np.sin(theta / 2)]\n",
    "    qrt_vector = []\n",
    "\n",
    "    # Initialize a 1-qubit quantum state using the arbitrary method                     \n",
    "    qrt_vector.append(qrt[0])\n",
    "    check_sta.initialize(desired_vector, qrt_vector)\n",
    "\n",
    "    # Measurement circuit\n",
    "    measuring = QuantumCircuit(qrt,crt , name='measuring')\n",
    "    for i in range(n) :\n",
    "        measuring.measure(qrt[i] , crt[i])\n",
    "    test_check = check_sta+measuring\n",
    "\n",
    "    # noise free simulation (NFS)\n",
    "    mode = \"NFS\"\n",
    "\n",
    "    # test circuit \"check_sta\" : Noise free model on simulator\n",
    "    backend_sim = Aer.get_backend('qasm_simulator')\n",
    "    shots = 8192\n",
    "    job_noisefree = execute(test_check, backend_sim, shots=shots)    \n",
    "    count = job_noisefree.result().get_counts(test_check)\n",
    "    \n",
    "    # get the output probabilities\n",
    "    observable_1 =  {'1' : 1, '0' : 0}\n",
    "    observable_0 =  {'0' : 1, '1' : 0}\n",
    "    counts_obs1 = int(average_data(count,observable_1)*shots)\n",
    "    counts_obs0 = int(average_data(count,observable_0)*shots)\n",
    "    \n",
    "    counts_theo0 = int(abs(np.cos(theta / 2)**2)*shots)\n",
    "    counts_theo1 = int(abs(np.exp(1j * phi) * np.sin(theta / 2)**2)*shots)\n",
    "    print(round(theta,3), round(phi,3),\"   \", counts_theo0,\"vs\", counts_obs0,\"--\", counts_theo1,\"vs\", counts_obs1)  "
   ]
  },
  {
   "cell_type": "code",
   "execution_count": 7,
   "metadata": {},
   "outputs": [],
   "source": [
    "# Determine the job\n",
    "n = 1\n",
    "\n",
    "# create a n-qubit quantum register\n",
    "qr = QuantumRegister(n)\n",
    "cr = ClassicalRegister(n)\n",
    "initial_state = QuantumCircuit(qr, cr, name='initial_state')\n",
    "\n",
    "# pick a particular encoded data point\n",
    "theta, phi = qdata[0]\n",
    "\n",
    "# desired vector\n",
    "desired_vector = [np.cos(theta / 2), np.exp(1j * phi) * np.sin(theta / 2)]\n",
    "qr_vector = []\n",
    "\n",
    "# Initialize a 1-qubit quantum state using the arbitrary method                     \n",
    "qr_vector.append(qr[0])\n",
    "initial_state.initialize(desired_vector, qr_vector)\n",
    "\n",
    "# Measurement circuit\n",
    "measuring = QuantumCircuit(qr, cr, name='measuring')\n",
    "for i in range(n) :\n",
    "    measuring.measure(qr[i] , cr[i])\n",
    "test = initial_state+measuring"
   ]
  },
  {
   "cell_type": "markdown",
   "metadata": {},
   "source": [
    "### Test the arbitrary initialization of the state by noise free simulation"
   ]
  },
  {
   "cell_type": "code",
   "execution_count": 8,
   "metadata": {
    "scrolled": true
   },
   "outputs": [
    {
     "name": "stdout",
     "output_type": "stream",
     "text": [
      "OPENQASM 2.0;\n",
      "include \"qelib1.inc\";\n",
      "qreg q11[1];\n",
      "creg c11[1];\n",
      "ry(2.98797789579958) q11[0];\n",
      "rz(0.789805554415850) q11[0];\n",
      "measure q11[0] -> c11[0];\n",
      "\n"
     ]
    }
   ],
   "source": [
    "# QASM from test\n",
    "QASM_source = test.qasm()\n",
    "print(QASM_source)"
   ]
  },
  {
   "cell_type": "code",
   "execution_count": 9,
   "metadata": {
    "scrolled": true
   },
   "outputs": [
    {
     "data": {
      "image/png": "[encoded data removed]",
      "text/plain": [
       "<Figure size 361.2x138.46 with 1 Axes>"
      ]
     },
     "execution_count": 9,
     "metadata": {},
     "output_type": "execute_result"
    }
   ],
   "source": [
    "# Draw the circuit\n",
    "my_style = {'latexdrawerstyle': False, 'cregbundle': True, 'fold': 30, 'showindex': True}\n",
    "test.draw(output='mpl', style=my_style)"
   ]
  },
  {
   "cell_type": "code",
   "execution_count": 10,
   "metadata": {
    "scrolled": false
   },
   "outputs": [
    {
     "data": {
      "application/vnd.jupyter.widget-view+json": {
       "model_id": "3d413bbc8b5e4734bc695b0e41e45e43",
       "version_major": 2,
       "version_minor": 0
      },
      "text/plain": [
       "HTML(value=\"<p style='font-size:16px;'>Job Status: job has successfully run </p>\")"
      ]
     },
     "metadata": {},
     "output_type": "display_data"
    },
    {
     "name": "stdout",
     "output_type": "stream",
     "text": [
      "Date (DMY): 10/02/2019 10:17:59\n",
      "{'0': 8, '1': 992}\n",
      "theta = 2.987977895799584 phi = 0.7898055544158503\n"
     ]
    },
    {
     "data": {
      "image/png": "[encoded data removed]",
      "text/plain": [
       "<Figure size 504x360 with 1 Axes>"
      ]
     },
     "execution_count": 10,
     "metadata": {},
     "output_type": "execute_result"
    }
   ],
   "source": [
    "# noise free simulation (NFS)\n",
    "mode = \"NFS\"\n",
    "\n",
    "# Test circuit \"initial_state\" : Noise free model on simulator\n",
    "backend_sim = Aer.get_backend('qasm_simulator')\n",
    "shots = 1000\n",
    "job_noisefree = execute(test, backend_sim, shots=shots)\n",
    "job_monitor(job_noisefree)\n",
    "\n",
    "count = job_noisefree.result().get_counts(test)\n",
    "time_exp = time.strftime('%d/%m/%Y %H:%M:%S')\n",
    "print(\"Date (DMY):\", time_exp)\n",
    "print(count)\n",
    "print('theta =', theta, 'phi =', phi)\n",
    "plot_histogram(count, color=['purple'], \n",
    "               title=str(n) + '- qubit QNN, initial state, noise free simulation')"
   ]
  },
  {
   "cell_type": "markdown",
   "metadata": {},
   "source": [
    "## 3. Unitary Evolution"
   ]
  },
  {
   "cell_type": "code",
   "execution_count": 11,
   "metadata": {},
   "outputs": [],
   "source": [
    "def unitary(angles):\n",
    "    \"\"\"Returns a circuit implementing the unitary Rz(theta0) P Rz(theta1) P Rz(theta2)\n",
    "    where thetea0 = angles[0], theta1 = angles[1], and theta2 = angles[2] and\n",
    "    P = Rx(pi / 2) is a pi / 2 pulse.\n",
    "    \"\"\"\n",
    "    \n",
    "    circuit = QuantumCircuit(qr, cr)\n",
    "    circuit.rz(angles[0], qr[0])\n",
    "    circuit.rx(np.pi / 2, qr[0]),\n",
    "    circuit.rz(angles[1], qr[0]),\n",
    "    circuit.rx(np.pi / 2, qr[0]),\n",
    "    circuit.rz(angles[2], qr[0])\n",
    "    \n",
    "    return circuit"
   ]
  },
  {
   "cell_type": "code",
   "execution_count": 12,
   "metadata": {},
   "outputs": [
    {
     "name": "stdout",
     "output_type": "stream",
     "text": [
      "OPENQASM 2.0;\n",
      "include \"qelib1.inc\";\n",
      "qreg q11[1];\n",
      "creg c11[1];\n",
      "ry(2.98797789579958) q11[0];\n",
      "rz(0.789805554415850) q11[0];\n",
      "rz(0.314283559730307) q11[0];\n",
      "rx(1.57079632679490) q11[0];\n",
      "rz(4.27779036629818) q11[0];\n",
      "rx(1.57079632679490) q11[0];\n",
      "rz(3.31959735414771) q11[0];\n",
      "measure q11[0] -> c11[0];\n",
      "\n"
     ]
    }
   ],
   "source": [
    "# test angles\n",
    "angles = 2 * np.pi * np.random.rand(3)\n",
    "my_state = initial_state + unitary(angles)\n",
    "qprog = my_state + measuring\n",
    "\n",
    "# QASM\n",
    "QASM_source = qprog.qasm()\n",
    "print(QASM_source)"
   ]
  },
  {
   "cell_type": "code",
   "execution_count": 13,
   "metadata": {
    "scrolled": true
   },
   "outputs": [
    {
     "data": {
      "image/png": "[encoded data removed]",
      "text/plain": [
       "<Figure size 662.2x138.46 with 1 Axes>"
      ]
     },
     "execution_count": 13,
     "metadata": {},
     "output_type": "execute_result"
    }
   ],
   "source": [
    "# Draw the circuit\n",
    "my_style = {'latexdrawerstyle': False, 'cregbundle': True, 'fold': 30, 'showindex': True}\n",
    "qprog.draw(output='mpl', style=my_style)"
   ]
  },
  {
   "cell_type": "markdown",
   "metadata": {},
   "source": [
    "### Test the circuit using a noise free simulation"
   ]
  },
  {
   "cell_type": "code",
   "execution_count": 14,
   "metadata": {
    "scrolled": false
   },
   "outputs": [
    {
     "name": "stdout",
     "output_type": "stream",
     "text": [
      "Date (DMY): 10/02/2019 10:18:14\n",
      "{'0': 252, '1': 748}\n",
      "theta = 2.987977895799584 phi = 0.7898055544158503\n"
     ]
    },
    {
     "data": {
      "image/png": "[encoded data removed]",
      "text/plain": [
       "<Figure size 504x360 with 1 Axes>"
      ]
     },
     "execution_count": 14,
     "metadata": {},
     "output_type": "execute_result"
    }
   ],
   "source": [
    "# noise free simulation (NFS)\n",
    "mode = \"NFS\"\n",
    "\n",
    "# run the quantum neural network program\n",
    "\n",
    "shots = 1000\n",
    "job_noisefree = execute(qprog, backend_sim, shots=shots)\n",
    "\n",
    "noisefree_count = job_noisefree.result().get_counts(qprog)\n",
    "time_exp = time.strftime('%d/%m/%Y %H:%M:%S')\n",
    "print(\"Date (DMY):\", time_exp)\n",
    "print(noisefree_count)\n",
    "print('theta =', theta, 'phi =', phi)\n",
    "plot_histogram(noisefree_count, color=['purple'], \n",
    "               title=str(n) + '- qubit QNN, ' + mode)"
   ]
  },
  {
   "cell_type": "markdown",
   "metadata": {},
   "source": [
    "### State tomography and quantum fidelity in noise free device simulation"
   ]
  },
  {
   "cell_type": "code",
   "execution_count": 15,
   "metadata": {},
   "outputs": [
    {
     "data": {
      "application/vnd.jupyter.widget-view+json": {
       "model_id": "84c5beb68c774d79b3740bcbc5c00d32",
       "version_major": 2,
       "version_minor": 0
      },
      "text/plain": [
       "HTML(value=\"<p style='font-size:16px;'>Job Status: job has successfully run </p>\")"
      ]
     },
     "metadata": {},
     "output_type": "display_data"
    },
    {
     "name": "stdout",
     "output_type": "stream",
     "text": [
      "Date (DMY): 10/02/2019 10:18:18\n",
      "Tomography 1-qubit QNN on qasm_simulator , shots: 1000 , mode: NFS theta: 2.987977895799584 phi: 0.7898055544158503\n",
      "Fidelity with theoretical ideal state\n",
      "F = 0.999933478085305\n"
     ]
    }
   ],
   "source": [
    "# Execute state tomography using noise free quantum device simulation\n",
    "mode = \"NFS\"\n",
    "# obtain the final state vector\n",
    "backend_stvct = Aer.get_backend('statevector_simulator')\n",
    "job = execute(my_state, backend_stvct)\n",
    "my_state_psi = job.result().get_statevector(my_state)\n",
    "\n",
    "# construct state tomography set for measurement of qubits [0, ..., n-1] in the Pauli basis\n",
    "qubit_set = []\n",
    "for i in range(0,n) :\n",
    "    qubit_set.append(i)\n",
    "\n",
    "my_state_tomo_set = tomo.state_tomography_set(qubit_set) # default value for meas_basis ='Pauli'.\n",
    "\n",
    "# add the state tomography measurement circuits to the Quantum Program\n",
    "my_state_tomo_circuits = tomo.create_tomography_circuits(my_state, qr, cr, my_state_tomo_set)\n",
    "\n",
    "backend_tomo = Aer.get_backend('qasm_simulator') # for simulation\n",
    "\n",
    "# take 1024 shots for each measurement basis\n",
    "# note: reduce this number for larger number of qubits\n",
    "shots = 1000\n",
    "\n",
    "my_state_job = execute(my_state_tomo_circuits, backend_tomo, shots=shots)\n",
    "job_monitor(my_state_job)\n",
    "my_state_tomo_result = my_state_job.result()    \n",
    "        \n",
    "# extract tomography data from results\n",
    "my_state_tomo_data = tomo.tomography_data(my_state_tomo_result, my_state.name, my_state_tomo_set)\n",
    "\n",
    "# Quantum fidelity\n",
    "\n",
    "# reconstruct experimentally measured density matrix \n",
    "rho_fit = tomo.fit_tomography_data(my_state_tomo_data)\n",
    "\n",
    "# calculate fidelity of fitted state:\n",
    "time_exp = time.strftime('%d/%m/%Y %H:%M:%S')\n",
    "print(\"Date (DMY):\", time_exp)\n",
    "print('Tomography',str(n)+'-qubit QNN on', backend_tomo,\n",
    "      \", shots:\", shots, \", mode:\", mode, \"theta:\", theta, 'phi:', phi)\n",
    "F_fit = state_fidelity(rho_fit, my_state_psi)\n",
    "print('Fidelity with theoretical ideal state')\n",
    "print('F =', F_fit)"
   ]
  },
  {
   "cell_type": "markdown",
   "metadata": {},
   "source": [
    "### From here, you need credentials:"
   ]
  },
  {
   "cell_type": "code",
   "execution_count": 16,
   "metadata": {},
   "outputs": [],
   "source": [
    "IBMQ.load_accounts()"
   ]
  },
  {
   "cell_type": "code",
   "execution_count": 146,
   "metadata": {},
   "outputs": [
    {
     "name": "stdout",
     "output_type": "stream",
     "text": [
      "ibmq_16_melbourne           ibmqx4\n",
      "-----------------           ------\n",
      "Num. Qubits:  14            Num. Qubits:  5\n",
      "Pending Jobs: 29            Pending Jobs: 478\n",
      "Least busy:   True          Least busy:   False\n",
      "Operational:  True          Operational:  True\n",
      "Avg. T1:      55.3          Avg. T1:      52.1\n",
      "Avg. T2:      64.4          Avg. T2:      17.2\n",
      "\n",
      "\n",
      "\n"
     ]
    }
   ],
   "source": [
    "backend_overview() # you may skip running this cell if you want"
   ]
  },
  {
   "cell_type": "code",
   "execution_count": 147,
   "metadata": {},
   "outputs": [
    {
     "name": "stdout",
     "output_type": "stream",
     "text": [
      "ibmq_16_melbourne\n"
     ]
    }
   ],
   "source": [
    "# Make your choice of real device\n",
    "#backend_real = least_busy(IBMQ.backends(operational=True, simulator=False))\n",
    "#backend_real = IBMQ.get_backend('ibmqx4')\n",
    "backend_real = IBMQ.get_backend('ibmq_16_melbourne')\n",
    "print(backend_real)"
   ]
  },
  {
   "cell_type": "markdown",
   "metadata": {},
   "source": [
    "### Prepare noise simulation corresponding to a given quantum device"
   ]
  },
  {
   "cell_type": "code",
   "execution_count": 18,
   "metadata": {},
   "outputs": [
    {
     "name": "stdout",
     "output_type": "stream",
     "text": [
      "device:  ibmq_16_melbourne\n",
      "noise model prepared for ibmq_16_melbourne\n"
     ]
    }
   ],
   "source": [
    "# Prepare device noise simulation (DNS)\n",
    "\n",
    "device = backend_real\n",
    "print(\"device: \", device)\n",
    "properties = device.properties()\n",
    "coupling_map = device.configuration().coupling_map\n",
    "prepared = False\n",
    "if device.name() == 'ibmq_16_melbourne' :\n",
    "    gate_times = [\n",
    "        ('u1', None, 0), ('u2', None, 100), ('u3', None, 200),\n",
    "        ('cx', [1, 0], 678), ('cx', [1, 2], 547), ('cx', [2, 3], 721),\n",
    "        ('cx', [4, 3], 733), ('cx', [4, 10], 721), ('cx', [5, 4], 800),\n",
    "        ('cx', [5, 6], 800), ('cx', [5, 9], 895), ('cx', [6, 8], 895),\n",
    "        ('cx', [7, 8], 640), ('cx', [9, 8], 895), ('cx', [9, 10], 800),\n",
    "        ('cx', [11, 10], 721), ('cx', [11, 3], 634), ('cx', [12, 2], 773),\n",
    "        ('cx', [13, 1], 2286), ('cx', [13, 12], 1504), ('cx', [], 800)\n",
    "    ]\n",
    "    prepared = True\n",
    "    \n",
    "elif device.name() == 'ibmqx4' :\n",
    "    gate_times = [\n",
    "        ('u1', None, 0), ('u2', None, 60), ('u3', None, 120),\n",
    "        ('cx', [1, 0], 340), ('cx', [2, 0], 424), ('cx', [2, 1], 520),\n",
    "        ('cx', [3, 2], 620), ('cx', [3, 4], 420), ('cx', [4, 2], 920)    \n",
    "    ]\n",
    "    prepared = True\n",
    "\n",
    "else :\n",
    "    print(\"No gate times yet defined in this notebook for: \", device)\n",
    "        \n",
    "if prepared :\n",
    "    # Construct the noise model from backend properties and custom gate times\n",
    "    noise_model = noise.device.basic_device_noise_model(properties, gate_times=gate_times)\n",
    "\n",
    "    # Get the basis gates for the noise model\n",
    "    basis_gates = noise_model.basis_gates\n",
    "    \n",
    "    print(\"noise model prepared for\", device)\n"
   ]
  },
  {
   "cell_type": "markdown",
   "metadata": {},
   "source": [
    "### Run the algorithm using device noise simulation (DNS)"
   ]
  },
  {
   "cell_type": "code",
   "execution_count": 19,
   "metadata": {},
   "outputs": [
    {
     "data": {
      "application/vnd.jupyter.widget-view+json": {
       "model_id": "a02d100572e04c87b3878627bbd4ea4a",
       "version_major": 2,
       "version_minor": 0
      },
      "text/plain": [
       "HTML(value=\"<p style='font-size:16px;'>Job Status: job has successfully run </p>\")"
      ]
     },
     "metadata": {},
     "output_type": "display_data"
    },
    {
     "name": "stdout",
     "output_type": "stream",
     "text": [
      "<bound method AerJob.status of <qiskit.providers.aer.aerjob.AerJob object at 0x000001D758C17240>>\n",
      "Date (DMY): 10/02/2019 10:18:47\n",
      "{'0': 282, '1': 718}\n",
      "theta = 2.987977895799584 phi = 0.7898055544158503\n"
     ]
    },
    {
     "data": {
      "image/png": "[encoded data removed]",
      "text/plain": [
       "<Figure size 504x360 with 1 Axes>"
      ]
     },
     "execution_count": 19,
     "metadata": {},
     "output_type": "execute_result"
    }
   ],
   "source": [
    "# Execute test using device noise simulation (DNS)\n",
    "\n",
    "backend_noise = Aer.get_backend('qasm_simulator') # for simulation (DNS)\n",
    "\n",
    "shots = 1000\n",
    "mode = \"DNS\"\n",
    "job_noise = execute(qprog, backend_noise, \n",
    "                       noise_model=noise_model,\n",
    "                       coupling_map=coupling_map,\n",
    "                       basis_gates=basis_gates, shots = shots)\n",
    "job_monitor(job_noise)\n",
    "\n",
    "print(job_noise.status)\n",
    "time_exp = time.strftime('%d/%m/%Y %H:%M:%S')\n",
    "print(\"Date (DMY):\", time_exp)\n",
    "noisy_count = job_noise.result().get_counts(qprog) \n",
    "print(noisy_count)\n",
    "print('theta =', theta, 'phi =', phi)\n",
    "plot_histogram(noisy_count, color=['cyan'],\n",
    "               title= str(n) + '- qubit QNN, ' + mode + ': {}, '.format(device.name()))"
   ]
  },
  {
   "cell_type": "markdown",
   "metadata": {},
   "source": [
    "### State tomography and quantum fidelity in device noise simulation (DNS)"
   ]
  },
  {
   "cell_type": "code",
   "execution_count": 20,
   "metadata": {},
   "outputs": [
    {
     "data": {
      "application/vnd.jupyter.widget-view+json": {
       "model_id": "2f59dbc091124a85ab97e057c39613ed",
       "version_major": 2,
       "version_minor": 0
      },
      "text/plain": [
       "HTML(value=\"<p style='font-size:16px;'>Job Status: job has successfully run </p>\")"
      ]
     },
     "metadata": {},
     "output_type": "display_data"
    },
    {
     "name": "stdout",
     "output_type": "stream",
     "text": [
      "Date (DMY): 10/02/2019 10:18:51\n",
      "Tomography 1-qubit QNN on qasm_simulator , shots: 1000 , mode: DNS of ibmq_16_melbourne theta: 2.987977895799584 phi: 0.7898055544158503\n",
      "Fidelity with theoretical ideal state\n",
      "F = 0.8969037947087841\n"
     ]
    }
   ],
   "source": [
    "# Execute state tomography using device noise simulation (DNS)\n",
    "\n",
    "# obtain the final state vector\n",
    "backend_stvct = Aer.get_backend('statevector_simulator')\n",
    "job = execute(my_state, backend_stvct)\n",
    "my_state_psi = job.result().get_statevector(my_state)\n",
    "\n",
    "# construct state tomography set for measurement of qubits [0, ..., n-1] in the Pauli basis\n",
    "qubit_set = []\n",
    "for i in range(0,n) :\n",
    "    qubit_set.append(i)\n",
    "my_state_tomo_set = tomo.state_tomography_set(qubit_set) # default value for meas_basis ='Pauli'.    \n",
    "\n",
    "# add the state tomography measurement circuits to the Quantum Program\n",
    "my_state_tomo_circuits = tomo.create_tomography_circuits(my_state, qr, cr, my_state_tomo_set)\n",
    "\n",
    "backend_tomo = Aer.get_backend('qasm_simulator') # for simulation\n",
    "\n",
    "# take 1024 shots for each measurement basis\n",
    "# note: reduce this number for larger number of qubits\n",
    "shots = 1000\n",
    "mode = \"DNS\"\n",
    "my_state_job = execute(my_state_tomo_circuits, backend_tomo, \n",
    "                               noise_model=noise_model,\n",
    "                               coupling_map=coupling_map,\n",
    "                               basis_gates=basis_gates)\n",
    "job_monitor(my_state_job)\n",
    "my_state_tomo_result = my_state_job.result()    \n",
    "\n",
    "# extract tomography data from results\n",
    "my_state_tomo_data = tomo.tomography_data(my_state_tomo_result, my_state.name, my_state_tomo_set)\n",
    "\n",
    "# Quantum fidelity\n",
    "\n",
    "# reconstruct experimentally measured density matrix \n",
    "rho_fit = tomo.fit_tomography_data(my_state_tomo_data)\n",
    "\n",
    "# calculate fidelity of fitted state:\n",
    "time_exp = time.strftime('%d/%m/%Y %H:%M:%S')\n",
    "print(\"Date (DMY):\", time_exp)\n",
    "print('Tomography',str(n)+'-qubit QNN on', backend_tomo,\n",
    "      \", shots:\", shots, \", mode:\", mode, \"of\", device, \"theta:\", theta, 'phi:', phi)\n",
    "F_fit = state_fidelity(rho_fit, my_state_psi)\n",
    "print('Fidelity with theoretical ideal state')\n",
    "print('F =', F_fit)"
   ]
  },
  {
   "cell_type": "markdown",
   "metadata": {},
   "source": [
    "### Run the algorithm on superconducting quantum computing device (SQC)"
   ]
  },
  {
   "cell_type": "code",
   "execution_count": 21,
   "metadata": {},
   "outputs": [
    {
     "data": {
      "application/vnd.jupyter.widget-view+json": {
       "model_id": "55ddd53def4b48c588550d1a5dbdf1db",
       "version_major": 2,
       "version_minor": 0
      },
      "text/plain": [
       "HTML(value=\"<p style='font-size:16px;'>Job Status: job is being initialized </p>\")"
      ]
     },
     "metadata": {},
     "output_type": "display_data"
    },
    {
     "name": "stdout",
     "output_type": "stream",
     "text": [
      "<bound method IBMQJob.status of <qiskit.providers.ibmq.ibmqjob.IBMQJob object at 0x000001D758E22DD8>>\n",
      "Date (DMY): 10/02/2019 11:34:17\n",
      "{'0': 309, '1': 715}\n",
      "theta = 2.987977895799584 phi = 0.7898055544158503\n"
     ]
    },
    {
     "data": {
      "image/png": "[encoded data removed]",
      "text/plain": [
       "<Figure size 504x360 with 1 Axes>"
      ]
     },
     "execution_count": 21,
     "metadata": {},
     "output_type": "execute_result"
    }
   ],
   "source": [
    "# Execute test using superconducting quantum computing device (SQC)\n",
    "\n",
    "#Choose the backend\n",
    "#backend_SQC = Aer.get_backend('qasm_simulator') # for optional test before final experiment \n",
    "backend_SQC = device # for a real device\n",
    "\n",
    "# Execute on SQC and get counts\n",
    "shots = 1000\n",
    "if backend_SQC.name() == \"qasm_simulator\" : # optional test before final experiment \n",
    "    mode = \"DNS\"\n",
    "    job_real = execute(qprog, backend_SQC, \n",
    "                           noise_model=noise_model,\n",
    "                           coupling_map=coupling_map,\n",
    "                           basis_gates=basis_gates)\n",
    "else: # final experiment on real device\n",
    "    mode = \"SQC\"\n",
    "    job_real = execute(qprog, backend_SQC)\n",
    "    job_monitor(job_real)\n",
    "\n",
    "print(job_real.status)\n",
    "time_exp = time.strftime('%d/%m/%Y %H:%M:%S')\n",
    "print(\"Date (DMY):\", time_exp)\n",
    "real_count = job_real.result().get_counts(qprog) \n",
    "print(real_count)\n",
    "print('theta =', theta, 'phi =', phi)\n",
    "plot_histogram(real_count, color=['orange'], \n",
    "               title= str(n) + '- qubit QNN, ' + mode + ': {}, '.format(device.name()))"
   ]
  },
  {
   "cell_type": "markdown",
   "metadata": {},
   "source": [
    "### State tomography and quantum fidelity on superconducting quantum computing device (SQC)"
   ]
  },
  {
   "cell_type": "code",
   "execution_count": 219,
   "metadata": {},
   "outputs": [
    {
     "data": {
      "application/vnd.jupyter.widget-view+json": {
       "model_id": "795f7379498d410c8f29c9757183ae9b",
       "version_major": 2,
       "version_minor": 0
      },
      "text/plain": [
       "HTML(value=\"<p style='font-size:16px;'>Job Status: job is being initialized </p>\")"
      ]
     },
     "metadata": {},
     "output_type": "display_data"
    },
    {
     "name": "stdout",
     "output_type": "stream",
     "text": [
      "Date (DMY): 07/02/2019 22:32:13\n",
      "Tomography 1-qubit classifier on ibmq_16_melbourne , shots: 1000 , mode: SQC ibmq_16_melbourne theta: 2.987977895799584 phi: 0.7898055544158503\n",
      "Fidelity with theoretical ideal state\n",
      "F = 0.8859731304253138\n"
     ]
    }
   ],
   "source": [
    "# Execute state tomography on superconducting quantum computing device (SQC)\n",
    "mode = \"SQC\"\n",
    "# obtain the final state vector\n",
    "backend_stvct = Aer.get_backend('statevector_simulator')\n",
    "job = execute(my_state, backend_stvct)\n",
    "my_state_psi = job.result().get_statevector(my_state)\n",
    "\n",
    "# construct state tomography set for measurement of qubits [0, ..., n-1] in the Pauli basis\n",
    "qubit_set = []\n",
    "for i in range(0,n) :\n",
    "    qubit_set.append(i)\n",
    "\n",
    "my_state_tomo_set = tomo.state_tomography_set(qubit_set) # default value for meas_basis ='Pauli'.\n",
    "\n",
    "# add the state tomography measurement circuits to the Quantum Program\n",
    "my_state_tomo_circuits = tomo.create_tomography_circuits(my_state, qr, cr, my_state_tomo_set)\n",
    "\n",
    "#Choose the backend\n",
    "#backend_tomo = Aer.get_backend('qasm_simulator') # optional test before final experiment\n",
    "backend_tomo = device # for real device\n",
    "\n",
    "# take 1024 shots for each measurement basis\n",
    "# note: reduce this number for larger number of qubits\n",
    "shots = 1000\n",
    "\n",
    "# loop: 27 circuits maximum per job to avoid exceeding the allowed limit for the real device.  \n",
    "n_circ = 3**n\n",
    "i_max = min(27,n_circ)\n",
    "my_jobs = []\n",
    "index_job = -1\n",
    "for i in range(0,n_circ,i_max) :\n",
    "    circs =[]\n",
    "    for j in range(i, i+i_max):\n",
    "        circs.append(my_state_tomo_circuits[j])\n",
    "    if backend_tomo.name() == \"qasm_simulator\" : # optional test before final experiment\n",
    "        mode = \"DNS\"\n",
    "        my_state_job = execute(circs, backend_tomo, \n",
    "                               noise_model=noise_model,\n",
    "                               coupling_map=coupling_map,\n",
    "                               basis_gates=basis_gates)\n",
    "    else: # final experiment on real device\n",
    "        mode = \"SQC\" \n",
    "        my_state_job = execute(circs, backend_tomo, shots=shots)\n",
    "    my_jobs.append(my_state_job)\n",
    "    index_job = index_job + 1 \n",
    "    job_monitor(my_jobs[index_job], monitor_async = True)\n",
    "    \n",
    "    my_state_new_result = my_state_job.result()\n",
    "    if i == 0:\n",
    "        my_state_tomo_result = my_state_new_result\n",
    "    else:\n",
    "        my_state_tomo_result = my_state_tomo_result +  my_state_new_result\n",
    "\n",
    "# extract tomography data from results\n",
    "my_state_tomo_data = tomo.tomography_data(my_state_tomo_result, my_state.name, my_state_tomo_set)\n",
    "\n",
    "# Quantum fidelity\n",
    "\n",
    "# reconstruct experimentally measured density matrix \n",
    "rho_fit = tomo.fit_tomography_data(my_state_tomo_data)\n",
    "\n",
    "# calculate fidelity of fitted state:\n",
    "time_exp = time.strftime('%d/%m/%Y %H:%M:%S')\n",
    "print(\"Date (DMY):\", time_exp)\n",
    "print('Tomography',str(n)+'-qubit classifier on', backend_tomo,\n",
    "      \", shots:\", shots, \", mode:\", mode, device, \"theta:\", theta, 'phi:', phi)\n",
    "F_fit = state_fidelity(rho_fit, my_state_psi)\n",
    "print('Fidelity with theoretical ideal state')\n",
    "print('F =', F_fit)"
   ]
  },
  {
   "cell_type": "markdown",
   "metadata": {},
   "source": [
    "### Comparing NFS, DNS and SQC\n",
    "The results obtained above for the NFS, DNS and SQC experiments are illustrated together in the next graphs:"
   ]
  },
  {
   "cell_type": "markdown",
   "metadata": {},
   "source": [
    "#### Histograms\n",
    "Herafter a comparison of the histograms of estimated outcome probabilities obtained during noise-free simulation, DNS and SQC experiments using Qiskit 0.7."
   ]
  },
  {
   "cell_type": "code",
   "execution_count": 22,
   "metadata": {},
   "outputs": [],
   "source": [
    "device_name = device.name()"
   ]
  },
  {
   "cell_type": "code",
   "execution_count": 23,
   "metadata": {},
   "outputs": [],
   "source": [
    "# !!! Skip this cell if you want to see the results for a new run of the program\n",
    "#Date (DMY): 07/02/2019\n",
    "device_name = \"ibm_16_melbourne\"\n",
    "noisefree_count = {'1': 721, '0': 279}\n",
    "noisy_count = {'1': 711, '0': 289}\n",
    "real_count = {'1': 695, '0': 305}"
   ]
  },
  {
   "cell_type": "code",
   "execution_count": 24,
   "metadata": {},
   "outputs": [
    {
     "data": {
      "image/png": "[encoded data removed]",
      "text/plain": [
       "<Figure size 504x360 with 1 Axes>"
      ]
     },
     "execution_count": 24,
     "metadata": {},
     "output_type": "execute_result"
    }
   ],
   "source": [
    "# NFS vs DSN vs SQC, count histograms\n",
    "plot_histogram([noisefree_count, noisy_count, real_count], \n",
    "               title= str(n) + '- qubit QNN on ' + device_name,\n",
    "               color=['purple','cyan', 'orange'], bar_labels=True,\n",
    "               legend = ['NFS (Noise free simulation)', 'DNS (Device noise simulation)','SQC (Real quantum device)']) "
   ]
  },
  {
   "cell_type": "markdown",
   "metadata": {},
   "source": [
    "#### Quantum Fidelity"
   ]
  },
  {
   "cell_type": "code",
   "execution_count": 26,
   "metadata": {},
   "outputs": [
    {
     "data": {
      "image/png": "[encoded data removed]",
      "text/plain": [
       "<Figure size 432x288 with 1 Axes>"
      ]
     },
     "metadata": {
      "needs_background": "light"
     },
     "output_type": "display_data"
    }
   ],
   "source": [
    "names = ['NFS','DNS','SQC']\n",
    "legend = ['NFS (Noise free simulation)', 'DNS (Device noise simulation)','SQC (Real quantum device)']\n",
    "\n",
    "fidelities = [0.999,0.897,0.886]\n",
    "plt.ylabel('Quantum Fidelity')\n",
    "plt.suptitle(str(n) + '- qubit QNN on {}, '.format(device.name()))\n",
    "plt.axis([-0.5,2.5,0.75,1.01])\n",
    "plt.grid()\n",
    "plt.scatter(names, fidelities)\n",
    "            \n",
    "plt.show()"
   ]
  },
  {
   "cell_type": "markdown",
   "metadata": {},
   "source": [
    "### Several functions before the next steps"
   ]
  },
  {
   "cell_type": "code",
   "execution_count": 125,
   "metadata": {},
   "outputs": [],
   "source": [
    "def obj_simple(angles, shots=1000, verbose=False):\n",
    "    \"\"\"Returns the number of zero outputs of a single training example.\"\"\"\n",
    "    # make the program\n",
    "    qprog = make_program([theta, phi], angles)\n",
    "    if verbose:\n",
    "        QASM_source = qprog.qasm()\n",
    "        print(QASM_source)\n",
    "    if mode == \"NFS\":        \n",
    "        dist = execute(qprog, backend_sim, shots=shots)\n",
    "    elif mode == \"DNS\":\n",
    "        dist = execute(qprog, backend_noise, \n",
    "                       noise_model=noise_model,\n",
    "                       coupling_map=coupling_map,\n",
    "                       basis_gates=basis_gates, shots = shots)\n",
    "    elif mode == \"SQC\":     \n",
    "        dist = execute(qprog, backend_SQC, shots=shots)\n",
    "        \n",
    "    dist_count = dist.result().get_counts(qprog)\n",
    "    observable =  {'1' : 1}\n",
    "    obj = average_data(dist_count,observable)/shots    \n",
    "    print(\"The current value of the objective function is:\", obj, end=\"\\r\")\n",
    "\n",
    "    return obj"
   ]
  },
  {
   "cell_type": "code",
   "execution_count": 126,
   "metadata": {},
   "outputs": [],
   "source": [
    "def make_program(pangles, uangles): # to be modified if n>1!\n",
    "    \"\"\"Returns a  program that prepares the state according\n",
    "    to pangles and applies the unitary according to uangles.\n",
    "    \"\"\"\n",
    "    new_state = QuantumCircuit(qr, cr)\n",
    "    # desired vector\n",
    "    desired_vector = [np.cos(pangles[0] / 2), np.exp(1j * pangles[1]) * np.sin(pangles[0] / 2)]\n",
    "    qr_vector = []\n",
    "\n",
    "    # Initialize a 1-qubit quantum state using the arbitrary method                     \n",
    "    qr_vector.append(qr[0])\n",
    "    new_state.initialize(desired_vector, qr_vector)\n",
    "    \n",
    "    # write the program\n",
    "    qprogram = new_state + unitary(uangles) + measuring   \n",
    "    \n",
    "    return qprogram"
   ]
  },
  {
   "cell_type": "code",
   "execution_count": 127,
   "metadata": {},
   "outputs": [],
   "source": [
    "def obj(uangles):\n",
    "    \"\"\"Returns the objective function C defined above over all training data.\n",
    "    \n",
    "    Args:\n",
    "        uangles [type: list<float>]\n",
    "            the angles in the unitary evolution.\n",
    "\n",
    "    rtype: int\n",
    "    \"\"\"\n",
    "    # grab some training data from the overall data set\n",
    "    tpoints = int(train_frac * len(qdata))\n",
    "    tdata = qdata[:tpoints]\n",
    "    tlabels = labels[:tpoints]\n",
    "\n",
    "    \n",
    "    # initialize a variable to store the output predictions of the neural net\n",
    "    predictions = np.zeros_like(tlabels, dtype=int)\n",
    "    \n",
    "    # loop over all training data to get the predictions\n",
    "    for i, pangles in enumerate(tdata):\n",
    "        # write the program\n",
    "        qprog = make_program(pangles, uangles)\n",
    "        \n",
    "        # run the program\n",
    "        shots = 1000\n",
    "        \n",
    "        if mode == \"NFS\":        \n",
    "            out = execute(qprog, backend_sim, shots=shots)\n",
    "        elif mode == \"DNS\":\n",
    "            out = execute(qprog, backend_noise, \n",
    "                           noise_model=noise_model,\n",
    "                           coupling_map=coupling_map,\n",
    "                           basis_gates=basis_gates, shots = shots)\n",
    "        elif mode == \"SQC\":     \n",
    "            out = execute(qprog, backend_SQC, shots=shots)\n",
    "   \n",
    "        out_count = out.result().get_counts(qprog)\n",
    "                \n",
    "        # get the output probabilities\n",
    "        observable_1 =  {'1' : 1, '0' : 0}\n",
    "        observable_0 =  {'0' : 1, '1' : 0}\n",
    "        p1 = average_data(out_count,observable_1)\n",
    "        p0 = average_data(out_count,observable_0)\n",
    "                \n",
    "        # take the prediction to be max(p0, p1)\n",
    "        if p0 >= p1:\n",
    "            predictions[i] = 0\n",
    "        else:\n",
    "            predictions[i] = 1\n",
    "\n",
    "# uncomment next four lines for check        \n",
    "#        if i == 0 :\n",
    "#            QASM_source = qprog.qasm()\n",
    "#            print(QASM_source)\n",
    "#            print(p0,p1)\n",
    "    \n",
    "    # compute the difference of the labels and return the cost\n",
    "    cost = sum(abs(predictions - tlabels)) / tpoints\n",
    "    print(\"The current value of the cost function is:\", cost, end=\"\\r\")\n",
    "    return cost"
   ]
  },
  {
   "cell_type": "code",
   "execution_count": 128,
   "metadata": {},
   "outputs": [],
   "source": [
    "def get_all_predictions(angles):\n",
    "    \"\"\"Returns a numpy array of all predictions.\"\"\"\n",
    "    # initialize a variable to store the output predictions of the neural net\n",
    "    zhats = np.zeros_like(labels, dtype=int)\n",
    "    \n",
    "    # loop over all data to get predictions\n",
    "    for i, pangles in enumerate(qdata):\n",
    "        # write the program\n",
    "        qprog = make_program(pangles, angles)\n",
    "        \n",
    "        # run the program\n",
    "        shots = 1000\n",
    "        \n",
    "        if mode == \"NFS\":        \n",
    "            out = execute(qprog, backend_sim, shots=shots)\n",
    "        elif mode == \"DNS\":\n",
    "            out = execute(qprog, backend_noise, \n",
    "                           noise_model=noise_model,\n",
    "                           coupling_map=coupling_map,\n",
    "                           basis_gates=basis_gates, shots = shots)\n",
    "        elif mode == \"SQC\":     \n",
    "            out = execute(qprog, backend_SQC, shots=shots)\n",
    "            \n",
    "        out_count = out.result().get_counts(qprog)\n",
    "                \n",
    "        # get the output probabilities\n",
    "        observable_1 =  {'1' : 1, '0' : 0}\n",
    "        observable_0 =  {'0' : 1, '1' : 0}\n",
    "        p1 = average_data(out_count,observable_1)\n",
    "        p0 = average_data(out_count,observable_0)\n",
    "        \n",
    "        # take the prediction to be max(p0, p1)\n",
    "        if p0 >= p1:\n",
    "            zhats[i] = 0\n",
    "        else:\n",
    "            zhats[i] = 1\n",
    "    return zhats"
   ]
  },
  {
   "cell_type": "markdown",
   "metadata": {},
   "source": [
    "## Testing on noise free simulator (NFS)"
   ]
  },
  {
   "cell_type": "code",
   "execution_count": 37,
   "metadata": {},
   "outputs": [
    {
     "name": "stdout",
     "output_type": "stream",
     "text": [
      "OPENQASM 2.0;\n",
      "include \"qelib1.inc\";\n",
      "qreg q11[1];\n",
      "creg c11[1];\n",
      "ry(2.98797789579958) q11[0];\n",
      "rz(0.789805554415850) q11[0];\n",
      "rz(0.314283559730307) q11[0];\n",
      "rx(1.57079632679490) q11[0];\n",
      "rz(4.27779036629818) q11[0];\n",
      "rx(1.57079632679490) q11[0];\n",
      "rz(3.31959735414771) q11[0];\n",
      "measure q11[0] -> c11[0];\n",
      "\n"
     ]
    }
   ],
   "source": [
    "qprog = make_program([theta, phi], angles)\n",
    "QASM_source = qprog.qasm()\n",
    "print(QASM_source)"
   ]
  },
  {
   "cell_type": "code",
   "execution_count": 38,
   "metadata": {
    "scrolled": true
   },
   "outputs": [
    {
     "data": {
      "image/png": "[encoded data removed]",
      "text/plain": [
       "<Figure size 662.2x138.46 with 1 Axes>"
      ]
     },
     "execution_count": 38,
     "metadata": {},
     "output_type": "execute_result"
    }
   ],
   "source": [
    "# Draw the circuit\n",
    "my_style = {'latexdrawerstyle': False, 'cregbundle': True, 'fold': 30, 'showindex': True}\n",
    "qprog.draw(output='mpl', style=my_style)"
   ]
  },
  {
   "cell_type": "code",
   "execution_count": 41,
   "metadata": {},
   "outputs": [
    {
     "name": "stdout",
     "output_type": "stream",
     "text": [
      "The current value of the objective function is: 0.0060569999999999999\r"
     ]
    }
   ],
   "source": [
    "mode = \"NFS\"\n",
    "out = minimize(obj_simple, x0=2 * np.pi * np.random.rand(3), method=\"Powell\")"
   ]
  },
  {
   "cell_type": "code",
   "execution_count": 42,
   "metadata": {},
   "outputs": [],
   "source": [
    "# do the circuit (neural network) with the optimal parameters\n",
    "opt_angles = out['x']\n",
    "qprog = make_program([theta, phi], opt_angles)"
   ]
  },
  {
   "cell_type": "code",
   "execution_count": 43,
   "metadata": {},
   "outputs": [
    {
     "name": "stdout",
     "output_type": "stream",
     "text": [
      "OPENQASM 2.0;\n",
      "include \"qelib1.inc\";\n",
      "qreg q11[1];\n",
      "creg c11[1];\n",
      "ry(2.98797789579958) q11[0];\n",
      "rz(0.789805554415850) q11[0];\n",
      "rz(8.89515197858799) q11[0];\n",
      "rx(1.57079632679490) q11[0];\n",
      "rz(6.14308213587254) q11[0];\n",
      "rx(1.57079632679490) q11[0];\n",
      "rz(7.13449483997346) q11[0];\n",
      "measure q11[0] -> c11[0];\n",
      "\n"
     ]
    }
   ],
   "source": [
    "QASM_source = qprog.qasm()\n",
    "print(QASM_source)"
   ]
  },
  {
   "cell_type": "code",
   "execution_count": 44,
   "metadata": {
    "scrolled": true
   },
   "outputs": [
    {
     "data": {
      "image/png": "[encoded data removed]",
      "text/plain": [
       "<Figure size 662.2x138.46 with 1 Axes>"
      ]
     },
     "execution_count": 44,
     "metadata": {},
     "output_type": "execute_result"
    }
   ],
   "source": [
    "# Draw the circuit\n",
    "my_style = {'latexdrawerstyle': False, 'cregbundle': True, 'fold': 30, 'showindex': True}\n",
    "qprog.draw(output='mpl', style=my_style)"
   ]
  },
  {
   "cell_type": "code",
   "execution_count": 45,
   "metadata": {},
   "outputs": [
    {
     "name": "stdout",
     "output_type": "stream",
     "text": [
      "Date (DMY): 10/02/2019 11:59:44\n",
      "{'0': 999, '1': 1}\n",
      "theta = 2.987977895799584 phi = 0.7898055544158503\n"
     ]
    },
    {
     "data": {
      "image/png": "[encoded data removed]",
      "text/plain": [
       "<Figure size 504x360 with 1 Axes>"
      ]
     },
     "execution_count": 45,
     "metadata": {},
     "output_type": "execute_result"
    }
   ],
   "source": [
    "# show the output distribution\n",
    "shots = 1000\n",
    "backend_sim = Aer.get_backend('qasm_simulator')\n",
    "dist = execute(qprog, backend_sim, shots=shots)\n",
    "dist_count = dist.result().get_counts(qprog)\n",
    "time_exp = time.strftime('%d/%m/%Y %H:%M:%S')\n",
    "print(\"Date (DMY):\", time_exp)\n",
    "print(dist_count)\n",
    "print('theta =', theta, 'phi =', phi)\n",
    "plot_histogram(dist_count, color=['purple'], \n",
    "               title=str(n) + '- qubit QNN, ' + mode)"
   ]
  },
  {
   "cell_type": "markdown",
   "metadata": {},
   "source": [
    "##  Training (NFS)"
   ]
  },
  {
   "cell_type": "code",
   "execution_count": 46,
   "metadata": {},
   "outputs": [],
   "source": [
    "# fraction of total data to use as training data\n",
    "train_frac = 0.7"
   ]
  },
  {
   "cell_type": "code",
   "execution_count": 47,
   "metadata": {},
   "outputs": [
    {
     "name": "stdout",
     "output_type": "stream",
     "text": [
      "The current value of the cost function is: 0.9857142857142858\r"
     ]
    }
   ],
   "source": [
    "# get some random angles\n",
    "angs = 2 * np.pi * np.random.rand(3)\n",
    "cost = obj(angs)"
   ]
  },
  {
   "cell_type": "code",
   "execution_count": 176,
   "metadata": {},
   "outputs": [],
   "source": [
    "optimal_angles = [7.85082205, 0.01934754, 9.62729993]"
   ]
  },
  {
   "cell_type": "markdown",
   "metadata": {},
   "source": [
    "If you chose to skip the training, you should not execute the next cell. Otherwise, continue through the notebook"
   ]
  },
  {
   "cell_type": "code",
   "execution_count": 48,
   "metadata": {},
   "outputs": [
    {
     "name": "stdout",
     "output_type": "stream",
     "text": [
      "The current value of the cost function is: 0.014285714285714285\n",
      "Total training runtime took 1.8455156366030374 minutes.\n"
     ]
    }
   ],
   "source": [
    "# train the quantum neural network and time how long it takes\n",
    "start = time.time()\n",
    "out = minimize(fun=obj, x0=angs, method=\"Powell\")\n",
    "print(\"\\nTotal training runtime took {} minutes.\".format((time.time() - start) / 60))"
   ]
  },
  {
   "cell_type": "code",
   "execution_count": 49,
   "metadata": {},
   "outputs": [
    {
     "name": "stdout",
     "output_type": "stream",
     "text": [
      "0.0\n",
      "[3.321652   6.2743205  5.85861077]\n"
     ]
    }
   ],
   "source": [
    "# grab the optimal angles and minimal cost value\n",
    "optimal_angles = out['x']\n",
    "fval = out['fun']\n",
    "\n",
    "# print them out\n",
    "print(fval)\n",
    "print(optimal_angles)"
   ]
  },
  {
   "cell_type": "code",
   "execution_count": 50,
   "metadata": {},
   "outputs": [],
   "source": [
    "# compute all the predictions of the quantum neural network\n",
    "predictions = get_all_predictions(optimal_angles)"
   ]
  },
  {
   "cell_type": "code",
   "execution_count": 51,
   "metadata": {},
   "outputs": [
    {
     "name": "stdout",
     "output_type": "stream",
     "text": [
      "=============== Results of quantum neural network classification ===============\n",
      "Out of 100 total data points:\n",
      "The QNN was trained on 70.0% of the total data (70 training points).\n",
      "The QNN classified 100 data points correctly (100.0% accuracy).\n",
      "================================================================================\n"
     ]
    },
    {
     "data": {
      "image/png": "[encoded data removed]",
      "text/plain": [
       "<Figure size 432x288 with 1 Axes>"
      ]
     },
     "metadata": {
      "needs_background": "light"
     },
     "output_type": "display_data"
    }
   ],
   "source": [
    "# compute statistics of the QNN\n",
    "ntrain = int(train_frac * npoints)\n",
    "ncorrect = npoints - sum(abs(predictions - labels))\n",
    "acc = ncorrect / npoints * 100\n",
    "\n",
    "# print them out\n",
    "print(\" Results of quantum neural network classification \".center(80, \"=\"))\n",
    "print(\"Out of {} total data points:\".format(npoints))\n",
    "print(\"The QNN was trained on {}% of the total data ({} training points).\".format(train_frac * 100, ntrain))\n",
    "print(\"The QNN classified {} data points correctly ({}% accuracy).\".format(ncorrect, acc))\n",
    "print(\"\".center(80, \"=\"))\n",
    "\n",
    "# plot the points, line y = x, and prediction\n",
    "plt.plot(ys, xs, '--k')\n",
    "for i in range(npoints):\n",
    "    if predictions[i] == 0:\n",
    "        ckey = 'g'\n",
    "    else:\n",
    "        ckey = 'b'\n",
    "    plt.scatter(data[i, 0], data[i, 1], color=ckey)\n",
    "\n",
    "plt.grid()\n",
    "plt.title(\"Predictions \" + str(n) + '- qubit QNN, ' + mode)\n",
    "plt.show()"
   ]
  },
  {
   "cell_type": "markdown",
   "metadata": {},
   "source": [
    "## Testing on device noise simulator"
   ]
  },
  {
   "cell_type": "code",
   "execution_count": 66,
   "metadata": {},
   "outputs": [],
   "source": [
    "# Testing on device noise simulator\n",
    "mode = \"DNS\""
   ]
  },
  {
   "cell_type": "code",
   "execution_count": 67,
   "metadata": {},
   "outputs": [
    {
     "name": "stdout",
     "output_type": "stream",
     "text": [
      "OPENQASM 2.0;\n",
      "include \"qelib1.inc\";\n",
      "qreg q11[1];\n",
      "creg c11[1];\n",
      "ry(2.98797789579958) q11[0];\n",
      "rz(0.789805554415850) q11[0];\n",
      "rz(0.314283559730307) q11[0];\n",
      "rx(1.57079632679490) q11[0];\n",
      "rz(4.27779036629818) q11[0];\n",
      "rx(1.57079632679490) q11[0];\n",
      "rz(3.31959735414771) q11[0];\n",
      "measure q11[0] -> c11[0];\n",
      "\n"
     ]
    }
   ],
   "source": [
    "qprog = make_program([theta, phi], angles)\n",
    "QASM_source = qprog.qasm()\n",
    "print(QASM_source)"
   ]
  },
  {
   "cell_type": "code",
   "execution_count": 68,
   "metadata": {},
   "outputs": [
    {
     "name": "stdout",
     "output_type": "stream",
     "text": [
      "The current value of the objective function is: 0.00011199999999999999\r"
     ]
    }
   ],
   "source": [
    "out = minimize(obj_simple, x0=2 * np.pi * np.random.rand(3), method=\"Powell\")"
   ]
  },
  {
   "cell_type": "code",
   "execution_count": 69,
   "metadata": {},
   "outputs": [],
   "source": [
    "# do the circuit (neural network) with the optimal parameters\n",
    "opt_angles = out['x']\n",
    "qprog = make_program([theta, phi], opt_angles)"
   ]
  },
  {
   "cell_type": "code",
   "execution_count": 70,
   "metadata": {},
   "outputs": [
    {
     "name": "stdout",
     "output_type": "stream",
     "text": [
      "OPENQASM 2.0;\n",
      "include \"qelib1.inc\";\n",
      "qreg q11[1];\n",
      "creg c11[1];\n",
      "ry(2.98797789579958) q11[0];\n",
      "rz(0.789805554415850) q11[0];\n",
      "rz(-1.51785048443617) q11[0];\n",
      "rx(1.57079632679490) q11[0];\n",
      "rz(0.248786966568569) q11[0];\n",
      "rx(1.57079632679490) q11[0];\n",
      "rz(9.26351197606004) q11[0];\n",
      "measure q11[0] -> c11[0];\n",
      "\n"
     ]
    }
   ],
   "source": [
    "QASM_source = qprog.qasm()\n",
    "print(QASM_source)"
   ]
  },
  {
   "cell_type": "code",
   "execution_count": 71,
   "metadata": {
    "scrolled": true
   },
   "outputs": [
    {
     "data": {
      "image/png": "[encoded data removed]",
      "text/plain": [
       "<Figure size 662.2x138.46 with 1 Axes>"
      ]
     },
     "execution_count": 71,
     "metadata": {},
     "output_type": "execute_result"
    }
   ],
   "source": [
    "# Draw the circuit\n",
    "my_style = {'latexdrawerstyle': False, 'cregbundle': True, 'fold': 30, 'showindex': True}\n",
    "qprog.draw(output='mpl', style=my_style)"
   ]
  },
  {
   "cell_type": "code",
   "execution_count": 72,
   "metadata": {},
   "outputs": [
    {
     "name": "stdout",
     "output_type": "stream",
     "text": [
      "Date (DMY): 10/02/2019 12:45:53\n",
      "{'0': 904, '1': 96}\n",
      "theta = 2.987977895799584 phi = 0.7898055544158503\n"
     ]
    },
    {
     "data": {
      "image/png": "[encoded data removed]",
      "text/plain": [
       "<Figure size 504x360 with 1 Axes>"
      ]
     },
     "execution_count": 72,
     "metadata": {},
     "output_type": "execute_result"
    }
   ],
   "source": [
    "# show the output distribution (DNS)\n",
    "mode = \"DNS\"\n",
    "dist = execute(qprog, backend_noise, \n",
    "                       noise_model=noise_model,\n",
    "                       coupling_map=coupling_map,\n",
    "                       basis_gates=basis_gates, shots = shots)\n",
    "dist_count = dist.result().get_counts(qprog)\n",
    "time_exp = time.strftime('%d/%m/%Y %H:%M:%S')\n",
    "print(\"Date (DMY):\", time_exp)\n",
    "print(dist_count)\n",
    "print('theta =', theta, 'phi =', phi)\n",
    "plot_histogram(dist_count, color=['cyan'], \n",
    "               title= str(n) + '- qubit QNN, ' + mode + ': {}, '.format(device.name()))"
   ]
  },
  {
   "cell_type": "markdown",
   "metadata": {},
   "source": [
    "##  Training (DNS)"
   ]
  },
  {
   "cell_type": "code",
   "execution_count": 73,
   "metadata": {},
   "outputs": [],
   "source": [
    "# fraction of total data to use as training data (DNS)\n",
    "train_frac = 0.7"
   ]
  },
  {
   "cell_type": "code",
   "execution_count": 74,
   "metadata": {},
   "outputs": [
    {
     "name": "stdout",
     "output_type": "stream",
     "text": [
      "The current value of the cost function is: 1.0\r"
     ]
    }
   ],
   "source": [
    "# get some random angles\n",
    "angs = 2 * np.pi * np.random.rand(3)\n",
    "cost = obj(angs)"
   ]
  },
  {
   "cell_type": "code",
   "execution_count": 75,
   "metadata": {},
   "outputs": [],
   "source": [
    "optimal_angles = [7.85082205, 0.01934754, 9.62729993]"
   ]
  },
  {
   "cell_type": "markdown",
   "metadata": {},
   "source": [
    "If you chose to skip the training, you should not execute the next cell. Otherwise, continue through the notebook"
   ]
  },
  {
   "cell_type": "code",
   "execution_count": 76,
   "metadata": {},
   "outputs": [
    {
     "name": "stdout",
     "output_type": "stream",
     "text": [
      "The current value of the cost function is: 0.014285714285714285\n",
      "Total training runtime took 6.603797650337219 minutes.\n"
     ]
    }
   ],
   "source": [
    "# train the quantum neural network and time how long it takes\n",
    "start = time.time()\n",
    "out = minimize(fun=obj, x0=angs, method=\"Powell\")\n",
    "print(\"\\nTotal training runtime took {} minutes.\".format((time.time() - start) / 60))"
   ]
  },
  {
   "cell_type": "code",
   "execution_count": 77,
   "metadata": {},
   "outputs": [
    {
     "name": "stdout",
     "output_type": "stream",
     "text": [
      "0.0\n",
      "[3.47838504 6.18048312 3.49508897]\n"
     ]
    }
   ],
   "source": [
    "# grab the optimal angles and minimal cost value\n",
    "optimal_angles = out['x']\n",
    "fval = out['fun']\n",
    "\n",
    "# print them out\n",
    "print(fval)\n",
    "print(optimal_angles)"
   ]
  },
  {
   "cell_type": "code",
   "execution_count": 78,
   "metadata": {},
   "outputs": [],
   "source": [
    "# compute all the predictions of the quantum neural network\n",
    "predictions = get_all_predictions(optimal_angles)"
   ]
  },
  {
   "cell_type": "code",
   "execution_count": 79,
   "metadata": {},
   "outputs": [
    {
     "name": "stdout",
     "output_type": "stream",
     "text": [
      "=============== Results of quantum neural network classification ===============\n",
      "Out of 100 total data points:\n",
      "The QNN was trained on 70.0% of the total data (70 training points).\n",
      "The QNN classified 99 data points correctly (99.0% accuracy).\n",
      "================================================================================\n"
     ]
    },
    {
     "data": {
      "image/png": "[encoded data removed]",
      "text/plain": [
       "<Figure size 432x288 with 1 Axes>"
      ]
     },
     "metadata": {
      "needs_background": "light"
     },
     "output_type": "display_data"
    }
   ],
   "source": [
    "# compute statistics of the QNN # previous experiment\n",
    "ntrain = int(train_frac * npoints)\n",
    "ncorrect = npoints - sum(abs(predictions - labels))\n",
    "acc = ncorrect / npoints * 100\n",
    "\n",
    "# print them out\n",
    "print(\" Results of quantum neural network classification \".center(80, \"=\"))\n",
    "print(\"Out of {} total data points:\".format(npoints))\n",
    "print(\"The QNN was trained on {}% of the total data ({} training points).\".format(train_frac * 100, ntrain))\n",
    "print(\"The QNN classified {} data points correctly ({}% accuracy).\".format(ncorrect, acc))\n",
    "print(\"\".center(80, \"=\"))\n",
    "\n",
    "# plot the points, line y = x, and prediction\n",
    "plt.plot(ys, xs, '--k')\n",
    "for i in range(npoints):\n",
    "    if predictions[i] == 0:\n",
    "        ckey = 'g'\n",
    "    else:\n",
    "        ckey = 'b'\n",
    "    plt.scatter(data[i, 0], data[i, 1], color=ckey)\n",
    "\n",
    "plt.grid()\n",
    "plt.title(\"Predictions \" + str(n) + '- qubit QNN, ' + mode + ': {}, '.format(device.name()))\n",
    "plt.show()"
   ]
  },
  {
   "cell_type": "markdown",
   "metadata": {},
   "source": [
    "## Testing on SQC"
   ]
  },
  {
   "cell_type": "code",
   "execution_count": 148,
   "metadata": {},
   "outputs": [],
   "source": [
    "mode = \"SQC\""
   ]
  },
  {
   "cell_type": "code",
   "execution_count": 149,
   "metadata": {},
   "outputs": [
    {
     "name": "stdout",
     "output_type": "stream",
     "text": [
      "OPENQASM 2.0;\n",
      "include \"qelib1.inc\";\n",
      "qreg q11[1];\n",
      "creg c11[1];\n",
      "ry(2.98797789579958) q11[0];\n",
      "rz(0.789805554415850) q11[0];\n",
      "rz(0.314283559730307) q11[0];\n",
      "rx(1.57079632679490) q11[0];\n",
      "rz(4.27779036629818) q11[0];\n",
      "rx(1.57079632679490) q11[0];\n",
      "rz(3.31959735414771) q11[0];\n",
      "measure q11[0] -> c11[0];\n",
      "\n"
     ]
    }
   ],
   "source": [
    "qprog = make_program([theta, phi], angles)\n",
    "QASM_source = qprog.qasm()\n",
    "print(QASM_source)"
   ]
  },
  {
   "cell_type": "code",
   "execution_count": 150,
   "metadata": {
    "scrolled": true
   },
   "outputs": [
    {
     "data": {
      "image/png": "[encoded data removed]",
      "text/plain": [
       "<Figure size 662.2x138.46 with 1 Axes>"
      ]
     },
     "execution_count": 150,
     "metadata": {},
     "output_type": "execute_result"
    }
   ],
   "source": [
    "# Draw the circuit\n",
    "my_style = {'latexdrawerstyle': False, 'cregbundle': True, 'fold': 30, 'showindex': True}\n",
    "qprog.draw(output='mpl', style=my_style)"
   ]
  },
  {
   "cell_type": "code",
   "execution_count": 152,
   "metadata": {},
   "outputs": [],
   "source": [
    "#Choose the backend\n",
    "#backend_SQC = Aer.get_backend('qasm_simulator') # for optional test before final experiment \n",
    "backend_SQC = device # for a real device"
   ]
  },
  {
   "cell_type": "code",
   "execution_count": 153,
   "metadata": {},
   "outputs": [
    {
     "name": "stdout",
     "output_type": "stream",
     "text": [
      "The current value of the objective function is: 1.4999999999999999e-05\r"
     ]
    },
    {
     "name": "stderr",
     "output_type": "stream",
     "text": [
      "Got a 502 code response to /api/Jobs/5c615f0259faae0051bd00dc/status: 502 Bad Gateway: Registered endpoint failed to handle the request.\n",
      "\n",
      "Got a 502 code response to /api/Jobs/5c615f0259faae0051bd00dc/status: 502 Bad Gateway: Registered endpoint failed to handle the request.\n",
      "\n"
     ]
    },
    {
     "name": "stdout",
     "output_type": "stream",
     "text": [
      "The current value of the objective function is: 3.4e-0599999999994e-05\r"
     ]
    }
   ],
   "source": [
    "out = minimize(obj_simple, x0=2 * np.pi * np.random.rand(3), method=\"Powell\")"
   ]
  },
  {
   "cell_type": "code",
   "execution_count": 154,
   "metadata": {},
   "outputs": [],
   "source": [
    "# do the circuit (neural network) with the optimal parameters\n",
    "opt_angles = out['x']\n",
    "qprog = make_program([theta, phi], opt_angles)"
   ]
  },
  {
   "cell_type": "code",
   "execution_count": 155,
   "metadata": {},
   "outputs": [
    {
     "name": "stdout",
     "output_type": "stream",
     "text": [
      "OPENQASM 2.0;\n",
      "include \"qelib1.inc\";\n",
      "qreg q11[1];\n",
      "creg c11[1];\n",
      "ry(2.98797789579958) q11[0];\n",
      "rz(0.789805554415850) q11[0];\n",
      "rz(-0.142437712576473) q11[0];\n",
      "rx(1.57079632679490) q11[0];\n",
      "rz(-0.0683511471663817) q11[0];\n",
      "rx(1.57079632679490) q11[0];\n",
      "rz(5.50839819635551) q11[0];\n",
      "measure q11[0] -> c11[0];\n",
      "\n"
     ]
    }
   ],
   "source": [
    "QASM_source = qprog.qasm()\n",
    "print(QASM_source)"
   ]
  },
  {
   "cell_type": "code",
   "execution_count": 156,
   "metadata": {
    "scrolled": true
   },
   "outputs": [
    {
     "data": {
      "image/png": "[encoded data removed]",
      "text/plain": [
       "<Figure size 662.2x138.46 with 1 Axes>"
      ]
     },
     "execution_count": 156,
     "metadata": {},
     "output_type": "execute_result"
    }
   ],
   "source": [
    "# Draw the circuit\n",
    "my_style = {'latexdrawerstyle': False, 'cregbundle': True, 'fold': 30, 'showindex': True}\n",
    "qprog.draw(output='mpl', style=my_style)"
   ]
  },
  {
   "cell_type": "code",
   "execution_count": 169,
   "metadata": {},
   "outputs": [
    {
     "data": {
      "application/vnd.jupyter.widget-view+json": {
       "model_id": "51c04fa2b67b472594bdcc653e76dd6e",
       "version_major": 2,
       "version_minor": 0
      },
      "text/plain": [
       "HTML(value=\"<p style='font-size:16px;'>Job Status: job is being initialized </p>\")"
      ]
     },
     "metadata": {},
     "output_type": "display_data"
    },
    {
     "name": "stdout",
     "output_type": "stream",
     "text": [
      "<bound method IBMQJob.status of <qiskit.providers.ibmq.ibmqjob.IBMQJob object at 0x000001D754C1A208>>\n",
      "Date (DMY): 11/02/2019 23:07:39\n",
      "{'0': 976, '1': 24}\n",
      "theta = 2.987977895799584 phi = 0.7898055544158503\n"
     ]
    },
    {
     "data": {
      "image/png": "[encoded data removed]",
      "text/plain": [
       "<Figure size 504x360 with 1 Axes>"
      ]
     },
     "execution_count": 169,
     "metadata": {},
     "output_type": "execute_result"
    }
   ],
   "source": [
    "# show the output distribution\n",
    "shots = 1000\n",
    "#Choose the backend\n",
    "#backend_SQC = Aer.get_backend('qasm_simulator') # for optional test before final experiment \n",
    "backend_SQC = device # for a real device\n",
    "\n",
    "dist = execute(qprog, backend_SQC, shots=shots)\n",
    "job_monitor(dist)\n",
    "\n",
    "print(dist.status)\n",
    "dist_count = dist.result().get_counts(qprog)\n",
    "time_exp = time.strftime('%d/%m/%Y %H:%M:%S')\n",
    "print(\"Date (DMY):\", time_exp)\n",
    "print(dist_count)\n",
    "print('theta =', theta, 'phi =', phi)\n",
    "plot_histogram(dist_count, color=['orange'], \n",
    "               title=str(n) + '- qubit QNN, ' + mode + ': {}, '.format(device.name()))"
   ]
  },
  {
   "cell_type": "code",
   "execution_count": 158,
   "metadata": {
    "scrolled": true
   },
   "outputs": [
    {
     "name": "stdout",
     "output_type": "stream",
     "text": [
      "[-0.14243771 -0.06835115  5.5083982 ]\n"
     ]
    }
   ],
   "source": [
    "# for the circuit (neural network) with the optimal parameters on SQC\n",
    "print(opt_angles)"
   ]
  },
  {
   "cell_type": "markdown",
   "metadata": {},
   "source": [
    "### Comparing NFS, DNS and SQC for the circuit (neural network) with the optimal parameters"
   ]
  },
  {
   "cell_type": "markdown",
   "metadata": {},
   "source": [
    "Herafter a comparison of the histograms of estimated outcome probabilities obtained during noise-free simulation, DNS and SQC experiments on real device using Qiskit 0.7"
   ]
  },
  {
   "cell_type": "code",
   "execution_count": 170,
   "metadata": {},
   "outputs": [],
   "source": [
    "#Date (DMY): 11/02/2019\n",
    "device_name = \"ibm_16_melbourne\"\n",
    "noisefree_count = {'1': 1, '0': 999}\n",
    "noisy_count = {'1': 96, '0': 904}\n",
    "real_count = {'1': 24, '0': 976}"
   ]
  },
  {
   "cell_type": "code",
   "execution_count": 168,
   "metadata": {},
   "outputs": [
    {
     "data": {
      "image/png": "[encoded data removed]",
      "text/plain": [
       "<Figure size 504x360 with 1 Axes>"
      ]
     },
     "execution_count": 168,
     "metadata": {},
     "output_type": "execute_result"
    }
   ],
   "source": [
    "# NFS vs DSN vs SQC, count histograms\n",
    "plot_histogram([noisefree_count, noisy_count, real_count], \n",
    "               title= str(n) + '- qubit QNN on ' + device_name,\n",
    "               color=['purple','cyan', 'orange'], bar_labels=True,\n",
    "               legend = ['NFS (Noise free simulation)', 'DNS (Device noise simulation)','SQC (Real quantum device)']) "
   ]
  },
  {
   "cell_type": "markdown",
   "metadata": {},
   "source": [
    "### References:\n",
    "\n",
    "[1] https://github.com/QuantumAI-lib/NISQAI/blob/master/examples/one-qubit-classifier/one-qubit-classifier.ipynb\n",
    "\n",
    "[2] https://nbviewer.jupyter.org/github/Qiskit/qiskit-tutorial/blob/master/community/terra/qis_adv/Multi-Qubit_W_States_with_Tomography.ipynb\n",
    "\n",
    "[3] Smolin, J. A., Gambetta, J. M. & Smith, G. (2012). Efficient method for computing the maximum-likelihood quantum state from measurements with additive gaussian noise. Phys. Rev. Lett 108(7). https://link.aps.org/doi/10.1103/PhysRevLett.108.070502\n",
    "\n",
    "[4] Preskill, J. (2018) Quantum Computing in the NISQ era and beyond. Quantum 2, 79 (2018). https://arxiv.org/abs/1801.00862\n",
    "\n",
    "[5] https://nbviewer.jupyter.org/github/Qiskit/qiskit-tutorial/blob/master/qiskit/terra/summary_of_quantum_operations.ipynb"
   ]
  }
 ],
 "metadata": {
  "anaconda-cloud": {},
  "kernelspec": {
   "display_name": "Python 3",
   "language": "python",
   "name": "python3"
  },
  "language_info": {
   "codemirror_mode": {
    "name": "ipython",
    "version": 3
   },
   "file_extension": ".py",
   "mimetype": "text/x-python",
   "name": "python",
   "nbconvert_exporter": "python",
   "pygments_lexer": "ipython3",
   "version": "3.7.1"
  }
 },
 "nbformat": 4,
 "nbformat_minor": 2
}
